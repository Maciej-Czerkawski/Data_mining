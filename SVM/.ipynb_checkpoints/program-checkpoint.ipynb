{
 "cells": [
  {
   "cell_type": "code",
   "execution_count": 2,
   "metadata": {},
   "outputs": [],
   "source": [
    "import numpy as np\n",
    "import matplotlib.pyplot as plt\n",
    "from sklearn.svm import SVC\n",
    "from sklearn.discriminant_analysis import LinearDiscriminantAnalysis as LDA\n",
    "from sklearn.metrics import confusion_matrix,accuracy_score"
   ]
  },
  {
   "cell_type": "code",
   "execution_count": 3,
   "metadata": {},
   "outputs": [],
   "source": [
    "#Avarage values of each class\n",
    "m = [np.array([-1,-1]),np.array([2,4]),np.array([-2,2])]\n",
    "#Size of each class and vector of classes\n",
    "n = [30,30,30]\n",
    "k = [1,2,3]\n",
    "#Matrix of covariance\n",
    "S = np.array([[1,0],[0,1]])\n",
    "\n",
    "#Generating points from a normal distribution \n",
    "Xx = [0 for x in range(len(n))]\n",
    "yy = [0 for x in range(len(n))]\n",
    "\n",
    "for i in range(len(n)):\n",
    "    Xx[i] = np.random.multivariate_normal(m[i],S,n[i]) \n",
    "    yy[i] = np.full(n[i],i+1)\n",
    "    \n",
    "#Vector of points from normal distribution, classes included\n",
    "X = np.concatenate(Xx)\n",
    "y = np.concatenate(yy)"
   ]
  },
  {
   "cell_type": "code",
   "execution_count": 4,
   "metadata": {},
   "outputs": [],
   "source": [
    "#SVM\n",
    "#Regularization parameter vector - C \n",
    "C = [0.1,0.2,0.5,1,2,5,10,20,50,100,200,500]\n",
    "svm_acc = []\n",
    "for c in C:\n",
    "    svm = SVC(C=c,kernel='linear',random_state=1)\n",
    "    svm.fit(X,y)\n",
    "    preditions_svm = svm.predict(X)\n",
    "    svm_acc.append(accuracy_score(y,preditions_svm))"
   ]
  },
  {
   "cell_type": "code",
   "execution_count": 5,
   "metadata": {},
   "outputs": [],
   "source": [
    "#LDA\n",
    "#C parameter is not used in LDA, we take it into account only for comparision\n",
    "lda_acc = []\n",
    "for c in C:\n",
    "    lda = LDA()\n",
    "    lda.fit(X,y)\n",
    "    preditions_lda = lda.predict(X)\n",
    "    lda_acc.append(accuracy_score(y,preditions_lda)) "
   ]
  },
  {
   "cell_type": "code",
   "execution_count": 6,
   "metadata": {},
   "outputs": [
    {
     "data": {
      "image/png": "[encoded data removed]",
      "text/plain": [
       "<Figure size 432x288 with 1 Axes>"
      ]
     },
     "metadata": {
      "needs_background": "light"
     },
     "output_type": "display_data"
    }
   ],
   "source": [
    "#SVM vs LDA\n",
    "fig, ax = plt.subplots()\n",
    "ax.plot(C,svm_acc,color='red', linestyle='-',\n",
    "        marker='o',markerfacecolor='red', markersize=3, label=\"SVM\")\n",
    "ax.plot(C,lda_acc,color='blue', linestyle='-',\n",
    "        marker='o',markerfacecolor='green', markersize=3, label=\"LDA\")\n",
    "ax.set_title('Accuracy of SVM vs accuracy of LDA for diffrent C values')\n",
    "ax.set_xlabel('C')\n",
    "ax.set_ylabel('Accuracy')\n",
    "ax.legend()\n",
    "plt.show()"
   ]
  },
  {
   "cell_type": "markdown",
   "metadata": {},
   "source": [
    "The graph shows that for a C value of 20 we obtain the maximum effectiveness of the SVM linear classifier. As a regularization parameter, it is responsible for how exactly we want not to make a mistake in the classification. For larger C values less incorrect classifications. SVM achieves better efficiency than LDA classifier, we can say that for our data set it is better classifier."
   ]
  },
  {
   "cell_type": "code",
   "execution_count": 7,
   "metadata": {
    "scrolled": true
   },
   "outputs": [
    {
     "data": {
      "image/png": "[encoded data removed]",
      "text/plain": [
       "<Figure size 432x288 with 1 Axes>"
      ]
     },
     "metadata": {},
     "output_type": "display_data"
    }
   ],
   "source": [
    "#Functions for graphical representation of dicriminant planes\n",
    "def make_meshgrid(x, y, h=.02):\n",
    "    x_min, x_max = x.min() - 1, x.max() + 1\n",
    "    y_min, y_max = y.min() - 1, y.max() + 1\n",
    "    xx, yy = np.meshgrid(np.arange(x_min, x_max, h), np.arange(y_min, y_max, h))\n",
    "    return xx, yy\n",
    "\n",
    "def plot_contours(ax, clf, xx, yy, **params):\n",
    "    Z = clf.predict(np.c_[xx.ravel(), yy.ravel()])\n",
    "    Z = Z.reshape(xx.shape)\n",
    "    out = ax.contourf(xx, yy, Z, **params)\n",
    "    return out\n",
    "\n",
    "model = svm\n",
    "clf = model.fit(X, y)\n",
    "\n",
    "fig, ax = plt.subplots()\n",
    "# title for the plots\n",
    "title = ('Discriminant planes for SVM')\n",
    "# Set-up grid for plotting.\n",
    "X0, X1 = X[:, 0], X[:, 1]\n",
    "xx, yy = make_meshgrid(X0, X1)\n",
    "\n",
    "plot_contours(ax, clf, xx, yy, cmap=plt.cm.coolwarm, alpha=0.8)\n",
    "ax.scatter(X[:30,0], X[:30,1], color = \"blue\",s=15, label=\"Klasa 1\")\n",
    "ax.scatter(X[30:60,0], X[30:60,1], color = \"white\",s=15, label=\"Klasa 2\")\n",
    "ax.scatter(X[60:90,0], X[60:90,1], color = \"red\",s=15, label=\"Klasa 3\")\n",
    "\n",
    "ax.set_ylabel('y')\n",
    "ax.set_xlabel('x')\n",
    "ax.set_xticks(())\n",
    "ax.set_yticks(())\n",
    "ax.set_title(title)\n",
    "ax.legend()\n",
    "plt.show()"
   ]
  }
 ],
 "metadata": {
  "kernelspec": {
   "display_name": "Python 3",
   "language": "python",
   "name": "python3"
  },
  "language_info": {
   "codemirror_mode": {
    "name": "ipython",
    "version": 3
   },
   "file_extension": ".py",
   "mimetype": "text/x-python",
   "name": "python",
   "nbconvert_exporter": "python",
   "pygments_lexer": "ipython3",
   "version": "3.6.9"
  }
 },
 "nbformat": 4,
 "nbformat_minor": 4
}
