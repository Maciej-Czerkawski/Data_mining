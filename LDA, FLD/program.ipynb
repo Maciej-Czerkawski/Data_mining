{
 "cells": [
  {
   "cell_type": "code",
   "execution_count": 10,
   "metadata": {},
   "outputs": [],
   "source": [
    "import numpy as np\n",
    "import matplotlib.pyplot as plt\n",
    "import shapely"
   ]
  },
  {
   "cell_type": "code",
   "execution_count": 11,
   "metadata": {},
   "outputs": [],
   "source": [
    "#Avarage values for each class\n",
    "m1 = np.array([-1,1])\n",
    "m2 = np.array([2,4])\n",
    "m3 = np.array([-2,2])\n",
    "\n",
    "#Covariance matrix\n",
    "S = np.array([[1,0],[0,1]])\n",
    "\n",
    "#Generating points from a normal distribution \n",
    "X1, Y1 = np.random.multivariate_normal(m1,S,(30)).T\n",
    "X2, Y2 = np.random.multivariate_normal(m2,S,(30)).T\n",
    "X3, Y3 = np.random.multivariate_normal(m3,S,(30)).T"
   ]
  },
  {
   "cell_type": "code",
   "execution_count": 12,
   "metadata": {},
   "outputs": [
    {
     "name": "stdout",
     "output_type": "stream",
     "text": [
      "[-0.48806569  2.20543485]\n"
     ]
    }
   ],
   "source": [
    "#Transposing matrix\n",
    "m1_trans = np.transpose(m1)\n",
    "m2_trans = np.transpose(m2)\n",
    "m3_trans = np.transpose(m3)\n",
    "\n",
    "#Size of each class \n",
    "n1 = len(X1)\n",
    "n2 = len(X2)\n",
    "n3 = len(X3)\n",
    "\n",
    "#Sum of all elements  \n",
    "n = n1 + n2 + n3\n",
    "\n",
    "#Number of classes\n",
    "g = 3\n",
    "\n",
    "#Avarage value of whole date \n",
    "m_x = np.concatenate((X1,X2,X3))\n",
    "mean_x = np.mean(m_x)\n",
    "m_y = np.concatenate((Y1,Y2,Y3))\n",
    "mean_y = np.mean(m_y)\n",
    "\n",
    "m = np.array([mean_x,mean_y])\n",
    "m_trans = np.transpose(m)\n",
    "print(m_trans)"
   ]
  },
  {
   "cell_type": "code",
   "execution_count": 13,
   "metadata": {},
   "outputs": [
    {
     "name": "stdout",
     "output_type": "stream",
     "text": [
      "[[30.  0.]\n",
      " [ 0. 30.]]\n"
     ]
    }
   ],
   "source": [
    "#Calculating intragroup variation matrix W (pol. macierz zmienności wewnątrzgrupowej W)\n",
    "W = (1/(n-g)) * (n1*(n1-1)*S + n2*(n2-1)*S + n3*(n3-1)*S)\n",
    "print(W)"
   ]
  },
  {
   "cell_type": "code",
   "execution_count": 14,
   "metadata": {},
   "outputs": [
    {
     "name": "stdout",
     "output_type": "stream",
     "text": [
      "[[131.07739461  80.8905515 ]\n",
      " [ 80.8905515   70.73611095]]\n"
     ]
    }
   ],
   "source": [
    "#Calculating intergroup variation matrix B (pol. macierz zmienności między grupowej B)\n",
    "B = (np.outer((n1 * (m1_trans - m_trans)) , (m1_trans - m_trans).transpose()) + np.outer((n2 * (m2 - m)) , (m2 - m).transpose())\n",
    "+ np.outer((n3 * (m3_trans - m_trans)) , (m3_trans - m_trans).transpose())) / (g - 1)\n",
    "\n",
    "print(B)"
   ]
  },
  {
   "cell_type": "code",
   "execution_count": 15,
   "metadata": {},
   "outputs": [
    {
     "name": "stdout",
     "output_type": "stream",
     "text": [
      "[4.369246487025743, 2.696351716527721]\n",
      "[2.696351716527721, 2.35787036488452]\n"
     ]
    }
   ],
   "source": [
    "#Auxiliary vector U\n",
    "W_1 = np.linalg.inv(W)\n",
    "U = [[0,0],\n",
    "     [0,0]]\n",
    "\n",
    "for i in range(len(W_1)):\n",
    "   # iteracja po kolumnach B\n",
    "   for j in range(len(B[0])):\n",
    "       # iteracja po wierszach B\n",
    "       for k in range(len(B)):\n",
    "           U[i][j] += W_1[i][k] * B[k][j]\n",
    "\n",
    "for r in U:\n",
    "   print(r)"
   ]
  },
  {
   "cell_type": "code",
   "execution_count": 6,
   "metadata": {},
   "outputs": [
    {
     "name": "stdout",
     "output_type": "stream",
     "text": [
      "6.187228164516517\n",
      "[6.18722816 0.48616198]\n"
     ]
    }
   ],
   "source": [
    "#Determination of U eigenvalues  \n",
    "lamb = np.linalg.eigvals(U)\n",
    "print(np.max(lamb))\n",
    "print(lamb)\n",
    "a = lamb[0]/lamb[1]"
   ]
  },
  {
   "cell_type": "code",
   "execution_count": 16,
   "metadata": {},
   "outputs": [],
   "source": [
    "#Projection function \n",
    "def projection(x,y,a):\n",
    "    X_z = (y * a + x)/(a**2 + 1) \n",
    "    Y_z = a * X_z\n",
    "    return np.array([X_z,Y_z])"
   ]
  },
  {
   "cell_type": "code",
   "execution_count": 17,
   "metadata": {},
   "outputs": [],
   "source": [
    "#Projection of all points from all classes onto the direction of a \n",
    "x1_pro = projection(X1,Y1,a)\n",
    "x2_pro = projection(X2,Y2,a)\n",
    "x3_pro = projection(X3,Y3,a)"
   ]
  },
  {
   "cell_type": "code",
   "execution_count": 20,
   "metadata": {
    "scrolled": true
   },
   "outputs": [
    {
     "data": {
      "image/png": "[encoded data removed]",
      "text/plain": [
       "<Figure size 432x288 with 1 Axes>"
      ]
     },
     "metadata": {
      "needs_background": "light"
     },
     "output_type": "display_data"
    }
   ],
   "source": [
    "#Plot with discriminatory plane (in this case it's a line) \n",
    "plt.plot(X1,Y1,\"ro\",color = 'blue')\n",
    "plt.plot(X2,Y2,\"ro\",color = 'green')\n",
    "plt.plot(X3,Y3,\"ro\",color = 'red')\n",
    "x = np.linspace(-0.2,0.5)\n",
    "plt.plot(x,x*a)\n",
    "plt.plot(x1_pro[0],x1_pro[1],\"ro\", color = 'blue')\n",
    "plt.plot(x2_pro[0],x2_pro[1],\"ro\", color = 'green')\n",
    "plt.plot(x3_pro[0],x3_pro[1],\"ro\", color = 'red')\n",
    "plt.title(\"Linear discriminant analysis, LDA\")\n",
    "plt.show()"
   ]
  },
  {
   "cell_type": "markdown",
   "metadata": {},
   "source": [
    "As we can see LDA method gives us really usefull discriminatory plane for our data. We can easily distinguish most of the points from our classes only thanks to calculated vector a. This method is really helpfull in dimensions reduction.  "
   ]
  },
  {
   "cell_type": "code",
   "execution_count": null,
   "metadata": {},
   "outputs": [],
   "source": []
  }
 ],
 "metadata": {
  "kernelspec": {
   "display_name": "Python 3",
   "language": "python",
   "name": "python3"
  },
  "language_info": {
   "codemirror_mode": {
    "name": "ipython",
    "version": 3
   },
   "file_extension": ".py",
   "mimetype": "text/x-python",
   "name": "python",
   "nbconvert_exporter": "python",
   "pygments_lexer": "ipython3",
   "version": "3.6.9"
  }
 },
 "nbformat": 4,
 "nbformat_minor": 4
}
